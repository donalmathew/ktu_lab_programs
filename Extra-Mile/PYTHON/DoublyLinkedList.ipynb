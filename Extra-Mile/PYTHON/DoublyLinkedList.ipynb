{
  "nbformat": 4,
  "nbformat_minor": 0,
  "metadata": {
    "colab": {
      "provenance": [],
      "collapsed_sections": []
    },
    "kernelspec": {
      "name": "python3",
      "display_name": "Python 3"
    },
    "language_info": {
      "name": "python"
    }
  },
  "cells": [
    {
      "cell_type": "markdown",
      "source": [
        "## Node Class"
      ],
      "metadata": {
        "id": "n3etLDg-cXvD"
      }
    },
    {
      "cell_type": "code",
      "execution_count": 4,
      "metadata": {
        "id": "g9nJDnMebi6d"
      },
      "outputs": [],
      "source": [
        "class Node:\n",
        "    def __init__(self, data=None, next=None, prev=None):\n",
        "        self.data = data\n",
        "        self.next = next\n",
        "        self.prev = prev"
      ]
    },
    {
      "cell_type": "markdown",
      "source": [
        "## Doubly Linked List Class\n",
        "\n",
        "A doubly linked list is a linked data structure that consists of a set of sequentially linked records called nodes. Each node contains three fields: two link fields (references to the previous and to the next node in the sequence of nodes) and one data field.\n",
        "\n",
        "![DLL1.png](data:image/png;base64,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)"
      ],
      "metadata": {
        "id": "1ulD-NaGchSH"
      }
    },
    {
      "cell_type": "code",
      "source": [
        "class DoublyLinkedList:\n",
        "    def __init__(self):\n",
        "        self.head = None\n",
        "        print(\"A doubly linked list was created!\")\n",
        "\n",
        "    def insert_at_end(self, data):\n",
        "        '''\n",
        "        Adds one data element at the end of the list\n",
        "        Input: data \n",
        "        '''\n",
        "        if (self.head == None):\n",
        "            node = Node(data) # default next and prev values are None\n",
        "            self.head = node\n",
        "            return\n",
        "\n",
        "        itr = self.head\n",
        "        while itr.next:\n",
        "            itr = itr.next \n",
        "        \n",
        "        node = Node(data, None, itr)\n",
        "        itr.next = node\n",
        "\n",
        "    def insert_values(self, data_list):\n",
        "        '''\n",
        "        Adds multiple data elements at the end of the list\n",
        "        Input: data (Type: List)\n",
        "        '''\n",
        "        #self.head = None\n",
        "        for data in data_list:\n",
        "            self.insert_at_end(data)\n",
        "\n",
        "    def print_forward(self):\n",
        "        '''Prints list in forward direction'''\n",
        "        # This method prints list in forward direction. Use node.next\n",
        "        if (self.head == None):\n",
        "            print(\"Doubly linked list is empty!\")\n",
        "            return\n",
        "\n",
        "        itr = self.head\n",
        "        dllstr = ''\n",
        "        while itr:\n",
        "            dllstr += f'{itr.data}<->'\n",
        "            itr = itr.next\n",
        "\n",
        "        print(dllstr)\n",
        "\n",
        "    def print_backward(self):\n",
        "        '''Prints list in forward direction'''\n",
        "        # Print linked list in reverse direction. Use node.prev for this.\n",
        "        if (self.head == None):\n",
        "            print(\"Doubly linked list is empty!\")\n",
        "            return\n",
        "        \n",
        "        itr = self.head\n",
        "        dllstr = ''\n",
        "        while itr.next:\n",
        "            itr = itr.next\n",
        "\n",
        "        while itr:\n",
        "            dllstr += f'{itr.data}<->'\n",
        "            itr = itr.prev\n",
        "\n",
        "        print(dllstr)"
      ],
      "metadata": {
        "id": "UFpXpOrucW1H"
      },
      "execution_count": 23,
      "outputs": []
    },
    {
      "cell_type": "markdown",
      "source": [
        "Let's now create a doubly linked list..."
      ],
      "metadata": {
        "id": "MPNffg4adYxc"
      }
    },
    {
      "cell_type": "code",
      "source": [
        "DLL = DoublyLinkedList()"
      ],
      "metadata": {
        "colab": {
          "base_uri": "https://localhost:8080/"
        },
        "id": "W9OovBqTcAsj",
        "outputId": "9d9e12ff-40af-4664-f37d-ca76c06d6538"
      },
      "execution_count": 24,
      "outputs": [
        {
          "output_type": "stream",
          "name": "stdout",
          "text": [
            "A doubly linked list was created!\n"
          ]
        }
      ]
    },
    {
      "cell_type": "markdown",
      "source": [
        "We can see below what all functions are available to us to play with!"
      ],
      "metadata": {
        "id": "KpvR8EZnfFbZ"
      }
    },
    {
      "cell_type": "markdown",
      "source": [
        "![DLL functions.png](data:image/png;base64,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)"
      ],
      "metadata": {
        "id": "MvhKXrb_eCfu"
      }
    },
    {
      "cell_type": "markdown",
      "source": [
        "Now, how about we add some elements to it?"
      ],
      "metadata": {
        "id": "aPcXSq5-d8Ir"
      }
    },
    {
      "cell_type": "code",
      "source": [
        "DLL.insert_values([1, 2, 3, 4, 5])\n",
        "DLL.print_forward()"
      ],
      "metadata": {
        "colab": {
          "base_uri": "https://localhost:8080/"
        },
        "id": "D6UR_WB6dgtS",
        "outputId": "c4b7c4ec-4bde-44a9-b27d-bde14f9df9d1"
      },
      "execution_count": 25,
      "outputs": [
        {
          "output_type": "stream",
          "name": "stdout",
          "text": [
            "1<->2<->3<->4<->5<->\n"
          ]
        }
      ]
    },
    {
      "cell_type": "markdown",
      "source": [
        "How about some more elements?"
      ],
      "metadata": {
        "id": "-6ct-5Tgf-Gf"
      }
    },
    {
      "cell_type": "code",
      "source": [
        "DLL.insert_values([6, 7, 8])"
      ],
      "metadata": {
        "id": "5K2PiR7PcAgQ"
      },
      "execution_count": 26,
      "outputs": []
    },
    {
      "cell_type": "code",
      "source": [
        "DLL.print_forward()\n",
        "DLL.print_backward()"
      ],
      "metadata": {
        "colab": {
          "base_uri": "https://localhost:8080/"
        },
        "id": "U6YjIErhdXxo",
        "outputId": "15da0deb-710a-4db1-fc1f-7d6d3d7e4608"
      },
      "execution_count": 27,
      "outputs": [
        {
          "output_type": "stream",
          "name": "stdout",
          "text": [
            "1<->2<->3<->4<->5<->6<->7<->8<->\n",
            "8<->7<->6<->5<->4<->3<->2<->1<->\n"
          ]
        }
      ]
    },
    {
      "cell_type": "code",
      "source": [
        "print(DLL.head.data) # If you wanted to see the first element of the list"
      ],
      "metadata": {
        "colab": {
          "base_uri": "https://localhost:8080/"
        },
        "id": "jx_nAf04dkaV",
        "outputId": "a5ce7e57-a46d-4b02-f3b4-afbb3c0a298b"
      },
      "execution_count": 28,
      "outputs": [
        {
          "output_type": "stream",
          "name": "stdout",
          "text": [
            "1\n"
          ]
        }
      ]
    },
    {
      "cell_type": "code",
      "source": [
        "DLL.insert_at_end(9)\n",
        "DLL.print_forward()"
      ],
      "metadata": {
        "colab": {
          "base_uri": "https://localhost:8080/"
        },
        "id": "dyBBYMZ0dnmS",
        "outputId": "96170fc0-18b2-4696-b02c-5d2b72ad801b"
      },
      "execution_count": 29,
      "outputs": [
        {
          "output_type": "stream",
          "name": "stdout",
          "text": [
            "1<->2<->3<->4<->5<->6<->7<->8<->9<->\n"
          ]
        }
      ]
    },
    {
      "cell_type": "markdown",
      "source": [
        "## How to find the n'th element in the list?\n",
        "\n",
        "\n"
      ],
      "metadata": {
        "id": "hQ-OYngBgMnG"
      }
    },
    {
      "cell_type": "code",
      "source": [
        "n = 4"
      ],
      "metadata": {
        "id": "RIvC_Gohge9y"
      },
      "execution_count": 30,
      "outputs": []
    },
    {
      "cell_type": "code",
      "source": [
        "req_element = DLL.head\n",
        "for i in range(n):\n",
        "    # DLL.head is now a Node object\n",
        "    # If you now you check out the Node class, you can see that the class attributes are data, next and prev\n",
        "    # Let's use 'em\n",
        "\n",
        "    req_element = req_element.next # This will return the next Node object in the list\n",
        "\n",
        "print(req_element.data) # Note that req_element is still an object and you should use the data attribute to print out the value"
      ],
      "metadata": {
        "colab": {
          "base_uri": "https://localhost:8080/"
        },
        "id": "BkQ906sqgixX",
        "outputId": "0f5ba2fa-750e-4e4d-f140-744cfce64806"
      },
      "execution_count": 31,
      "outputs": [
        {
          "output_type": "stream",
          "name": "stdout",
          "text": [
            "5\n"
          ]
        }
      ]
    },
    {
      "cell_type": "markdown",
      "source": [
        "Hurray!"
      ],
      "metadata": {
        "id": "qh4DhHBChdMh"
      }
    },
    {
      "cell_type": "markdown",
      "source": [
        "## What next? \n",
        "\n",
        "* Try finding the **length of the list** using the class definitions provided to you\n",
        "* Do not make any changes to these definitions themselves "
      ],
      "metadata": {
        "id": "nlVSH1CRhowx"
      }
    },
    {
      "cell_type": "code",
      "source": [],
      "metadata": {
        "id": "2P13wCALhaXA"
      },
      "execution_count": null,
      "outputs": []
    }
  ]
}