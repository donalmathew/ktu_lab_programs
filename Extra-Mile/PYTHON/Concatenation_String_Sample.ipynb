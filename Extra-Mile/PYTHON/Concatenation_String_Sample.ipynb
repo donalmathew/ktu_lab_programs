{
  "nbformat": 4,
  "nbformat_minor": 0,
  "metadata": {
    "colab": {
      "provenance": [],
      "authorship_tag": "ABX9TyN4ZeYPW8MZ0eoebTaelIzV",
      "include_colab_link": true
    },
    "kernelspec": {
      "name": "python3",
      "display_name": "Python 3"
    },
    "language_info": {
      "name": "python"
    }
  },
  "cells": [
    {
      "cell_type": "markdown",
      "metadata": {
        "id": "view-in-github",
        "colab_type": "text"
      },
      "source": [
        "<a href=\"https://colab.research.google.com/github/Gokulos/Extra-Mile/blob/main/PYTHON/Concatenation_String_Sample.ipynb\" target=\"_parent\"><img src=\"https://colab.research.google.com/assets/colab-badge.svg\" alt=\"Open In Colab\"/></a>"
      ]
    },
    {
      "cell_type": "code",
      "execution_count": 11,
      "metadata": {
        "colab": {
          "base_uri": "https://localhost:8080/"
        },
        "id": "dFBY_tGO1H8J",
        "outputId": "0cdeed59-b9ed-486b-858e-7e967cbdf44f"
      },
      "outputs": [
        {
          "output_type": "stream",
          "name": "stdout",
          "text": [
            "Enter first String: Gokul\n",
            "Enter Second String: Is Awesome\n",
            "After Concatenation:\n",
            "GokulIs Awesome\n"
          ]
        }
      ],
      "source": [
        "x = input(\"Enter first String: \")\n",
        "y = input(\"Enter Second String: \")\n",
        "z =  x + y\n",
        "print(\"After Concatenation:\")\n",
        "print(z)"
      ]
    }
  ]
}