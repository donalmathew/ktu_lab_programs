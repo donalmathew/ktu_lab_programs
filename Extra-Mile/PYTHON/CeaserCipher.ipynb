{
  "nbformat": 4,
  "nbformat_minor": 0,
  "metadata": {
    "colab": {
      "provenance": [],
      "authorship_tag": "ABX9TyMPH4LQOxcClNghiRpt/d+g",
      "include_colab_link": true
    },
    "kernelspec": {
      "name": "python3",
      "display_name": "Python 3"
    },
    "language_info": {
      "name": "python"
    }
  },
  "cells": [
    {
      "cell_type": "markdown",
      "metadata": {
        "id": "view-in-github",
        "colab_type": "text"
      },
      "source": [
        "<a href=\"https://colab.research.google.com/github/manasmanoj/Extra-Mile/blob/main/PYTHON/CeaserCipher.ipynb\" target=\"_parent\"><img src=\"https://colab.research.google.com/assets/colab-badge.svg\" alt=\"Open In Colab\"/></a>"
      ]
    },
    {
      "cell_type": "code",
      "execution_count": 3,
      "metadata": {
        "colab": {
          "base_uri": "https://localhost:8080/"
        },
        "id": "7Ti_okNB6xXR",
        "outputId": "3bfaab80-d11d-4b61-a1be-ef3b5a822843"
      },
      "outputs": [
        {
          "output_type": "stream",
          "name": "stdout",
          "text": [
            "Enter a string: gokul\n",
            "ucyiz\n"
          ]
        }
      ],
      "source": [
        "enter = input(\"Enter a string: \")\n",
        "\n",
        "def shift(c, k):\n",
        "  if not c.isalpha():\n",
        "    return c\n",
        "  w = ord('a')\n",
        "  if c.isupper():\n",
        "    w = ord('A')\n",
        "  return chr(w + (26 + ord(c) - w - k) % 26)\n",
        "  \n",
        "print(\"\".join([shift(c, 12) for c in enter]))\n"
      ]
    }
  ]
}