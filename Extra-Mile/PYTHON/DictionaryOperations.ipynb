{
  "nbformat": 4,
  "nbformat_minor": 0,
  "metadata": {
    "colab": {
      "provenance": [],
      "authorship_tag": "ABX9TyNLbbjU1ua2lg6/5ADZ96f+",
      "include_colab_link": true
    },
    "kernelspec": {
      "name": "python3",
      "display_name": "Python 3"
    },
    "language_info": {
      "name": "python"
    }
  },
  "cells": [
    {
      "cell_type": "markdown",
      "metadata": {
        "id": "view-in-github",
        "colab_type": "text"
      },
      "source": [
        "<a href=\"https://colab.research.google.com/github/AkarshAnilkumar/Extra-Mile/blob/main/PYTHON/DictionaryOperations.ipynb\" target=\"_parent\"><img src=\"https://colab.research.google.com/assets/colab-badge.svg\" alt=\"Open In Colab\"/></a>"
      ]
    },
    {
      "cell_type": "code",
      "execution_count": 6,
      "metadata": {
        "colab": {
          "base_uri": "https://localhost:8080/"
        },
        "id": "vIiUD6z5NykK",
        "outputId": "7283a7e2-c624-4975-9f8a-1929cf016c48"
      },
      "outputs": [
        {
          "output_type": "stream",
          "name": "stdout",
          "text": [
            "key by value: {'the'}\n"
          ]
        }
      ],
      "source": [
        "#Code Snippet to Find the index(key) when the value is provided in dictionary\n",
        "dic ={\"To\": 5,\"Find\":4,\"the\":3,\"Index\":2,\"Usingvalues\":1}\n",
        "\n",
        "value = {i for i in dic if dic[i]== 3}\n",
        "print(\"key by value:\",value)\n"
      ]
    },
    {
      "cell_type": "code",
      "source": [
        "#Code Snippet to Find the largest value in a dictionary\n",
        "Keymax =[ k for k in dic if dic[k] == max(dic.values())]\n",
        "print(Keymax)"
      ],
      "metadata": {
        "colab": {
          "base_uri": "https://localhost:8080/"
        },
        "id": "2G1qu4WeOmNy",
        "outputId": "694db3a4-8289-4c6f-88ef-f306b19437ad"
      },
      "execution_count": 7,
      "outputs": [
        {
          "output_type": "stream",
          "name": "stdout",
          "text": [
            "['To']\n"
          ]
        }
      ]
    },
    {
      "cell_type": "code",
      "source": [
        "#Code Snippet (alternative to above) to find the largest value\n",
        "\n",
        "keymax = max(dic, key= lambda x: dic[x])\n",
        "print(Keymax)\n"
      ],
      "metadata": {
        "colab": {
          "base_uri": "https://localhost:8080/"
        },
        "id": "1PxJDamdPhEz",
        "outputId": "3f9f8829-5f52-421f-a0e1-16693c17cf8a"
      },
      "execution_count": 8,
      "outputs": [
        {
          "output_type": "stream",
          "name": "stdout",
          "text": [
            "['To']\n"
          ]
        }
      ]
    },
    {
      "cell_type": "code",
      "source": [
        "#Code Snippet to manipulate dictionary to print only squares of odd keys\n",
        "odd_squares = {x: x*x for x in range(10) if x % 2 == 1}\n",
        "print(odd_squares)"
      ],
      "metadata": {
        "colab": {
          "base_uri": "https://localhost:8080/"
        },
        "id": "bw7yISaeQbfm",
        "outputId": "e6ae1e4c-f2dc-4f42-e676-5bc1e91b5fdb"
      },
      "execution_count": 10,
      "outputs": [
        {
          "output_type": "stream",
          "name": "stdout",
          "text": [
            "{1: 1, 3: 9, 5: 25, 7: 49, 9: 81}\n"
          ]
        }
      ]
    }
  ]
}