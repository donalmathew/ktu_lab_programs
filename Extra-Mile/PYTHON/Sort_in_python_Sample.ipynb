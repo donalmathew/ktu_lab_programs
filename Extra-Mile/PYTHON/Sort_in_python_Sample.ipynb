{
  "nbformat": 4,
  "nbformat_minor": 0,
  "metadata": {
    "colab": {
      "provenance": [],
      "authorship_tag": "ABX9TyMxXbvqDtr7hlRi/NHLS0qv",
      "include_colab_link": true
    },
    "kernelspec": {
      "name": "python3",
      "display_name": "Python 3"
    },
    "language_info": {
      "name": "python"
    }
  },
  "cells": [
    {
      "cell_type": "markdown",
      "metadata": {
        "id": "view-in-github",
        "colab_type": "text"
      },
      "source": [
        "<a href=\"https://colab.research.google.com/github/Gokulos/Extra-Mile/blob/main/PYTHON/Sort_in_python_Sample.ipynb\" target=\"_parent\"><img src=\"https://colab.research.google.com/assets/colab-badge.svg\" alt=\"Open In Colab\"/></a>"
      ]
    },
    {
      "cell_type": "code",
      "execution_count": 13,
      "metadata": {
        "colab": {
          "base_uri": "https://localhost:8080/"
        },
        "id": "dFBY_tGO1H8J",
        "outputId": "1a9de45e-94c6-41ea-e442-658c73dd1353"
      },
      "outputs": [
        {
          "output_type": "stream",
          "name": "stdout",
          "text": [
            "[2, 3, 5, 7, 11]\n"
          ]
        }
      ],
      "source": [
        "list = [11, 3, 7, 5, 2]\n",
        "\n",
        "# Acending order Sort\n",
        "list.sort()\n",
        "\n",
        "print(list)"
      ]
    }
  ]
}