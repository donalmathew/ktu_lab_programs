{
  "nbformat": 4,
  "nbformat_minor": 0,
  "metadata": {
    "colab": {
      "provenance": [],
      "authorship_tag": "ABX9TyM89Wj/Lzma8c/zNWaUKm3m",
      "include_colab_link": true
    },
    "kernelspec": {
      "name": "python3",
      "display_name": "Python 3"
    },
    "language_info": {
      "name": "python"
    }
  },
  "cells": [
    {
      "cell_type": "markdown",
      "metadata": {
        "id": "view-in-github",
        "colab_type": "text"
      },
      "source": [
        "<a href=\"https://colab.research.google.com/github/AkarshAnilkumar/Extra-Mile/blob/main/PYTHON/Set%26list_Comprehensions.ipynb\" target=\"_parent\"><img src=\"https://colab.research.google.com/assets/colab-badge.svg\" alt=\"Open In Colab\"/></a>"
      ]
    },
    {
      "cell_type": "code",
      "execution_count": null,
      "metadata": {
        "id": "5z4sZOPtOWiF"
      },
      "outputs": [],
      "source": [
        "if __name__ == '__main__':\n",
        "    n,m = map(int,input().split())\n",
        "    list0 = list(map(int,input().split()))\n",
        "    list1 = list(map(int,input().split()))\n",
        "    list2 = list(map(int,input().split()))\n",
        "    setA = set(list1)\n",
        "    setB = set(list2)\n",
        "    s = 0\n",
        "    for j in range(len(list0)):\n",
        "        sum2 = [1 for i in setA if list0[j] == i]\n",
        "        sum1 = [-1 for i in setB if list0[j] is i]\n",
        "        s = sum2[j] + sum1[j]  \n",
        "    #for i in sum1:\n",
        "     # sum2.append(i)\n",
        "    #print(sum(sum2))\n",
        "    print(s)\n",
        "   \n"
      ]
    }
  ]
}