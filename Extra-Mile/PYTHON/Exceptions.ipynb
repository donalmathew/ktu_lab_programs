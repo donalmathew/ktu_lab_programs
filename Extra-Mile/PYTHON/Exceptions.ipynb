{
  "nbformat": 4,
  "nbformat_minor": 0,
  "metadata": {
    "colab": {
      "provenance": [],
      "authorship_tag": "ABX9TyPgzKCXNVdXTvH7klAAvgSw",
      "include_colab_link": true
    },
    "kernelspec": {
      "name": "python3",
      "display_name": "Python 3"
    },
    "language_info": {
      "name": "python"
    }
  },
  "cells": [
    {
      "cell_type": "markdown",
      "metadata": {
        "id": "view-in-github",
        "colab_type": "text"
      },
      "source": [
        "<a href=\"https://colab.research.google.com/github/AkarshAnilkumar/Extra-Mile/blob/main/PYTHON/Exceptions.ipynb\" target=\"_parent\"><img src=\"https://colab.research.google.com/assets/colab-badge.svg\" alt=\"Open In Colab\"/></a>"
      ]
    },
    {
      "cell_type": "code",
      "execution_count": 3,
      "metadata": {
        "colab": {
          "base_uri": "https://localhost:8080/"
        },
        "id": "GYjeC1sZNSTu",
        "outputId": "d8d69682-1599-424c-b211-d79cff2e003e"
      },
      "outputs": [
        {
          "output_type": "stream",
          "name": "stdout",
          "text": [
            "4\n",
            "1 2\n",
            "0\n",
            "2 3\n",
            "0\n",
            "6 5\n",
            "1\n",
            "2 4\n",
            "0\n"
          ]
        }
      ],
      "source": [
        "for i in range(int(input())):\n",
        "    try:\n",
        "        a,b = list(map(int, input().split()))\n",
        "        print(a//b)\n",
        "    except ZeroDivisionError as e:\n",
        "        print('Error Code:',e)\n",
        "    except ValueError as e:\n",
        "        print('Error Code:',e)"
      ]
    }
  ]
}