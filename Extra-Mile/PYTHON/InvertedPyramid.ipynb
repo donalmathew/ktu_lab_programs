{
  "nbformat": 4,
  "nbformat_minor": 0,
  "metadata": {
    "colab": {
      "provenance": [],
      "authorship_tag": "ABX9TyOcHwOoaM/TAsuzMHwg+1Gl",
      "include_colab_link": true
    },
    "kernelspec": {
      "name": "python3",
      "display_name": "Python 3"
    },
    "language_info": {
      "name": "python"
    }
  },
  "cells": [
    {
      "cell_type": "markdown",
      "metadata": {
        "id": "view-in-github",
        "colab_type": "text"
      },
      "source": [
        "<a href=\"https://colab.research.google.com/github/HKRcodes/Extra-Mile/blob/main/PYTHON/InvertedPyramid.ipynb\" target=\"_parent\"><img src=\"https://colab.research.google.com/assets/colab-badge.svg\" alt=\"Open In Colab\"/></a>"
      ]
    },
    {
      "cell_type": "code",
      "execution_count": 8,
      "metadata": {
        "colab": {
          "base_uri": "https://localhost:8080/"
        },
        "id": "YAx3XhOeQ8Wo",
        "outputId": "1c2342d4-9410-431f-a08d-e8f83fb28666"
      },
      "outputs": [
        {
          "output_type": "stream",
          "name": "stdout",
          "text": [
            "Enter the number of rows: 5\n",
            " \n",
            "  * * * * * * * * * \n",
            "  \n",
            "    * * * * * * * \n",
            "  \n",
            "      * * * * * \n",
            "  \n",
            "        * * * \n",
            "  \n",
            "          * \n",
            " "
          ]
        }
      ],
      "source": [
        "n = int(input(\"Enter the number of rows: \"))\n",
        "m=n\n",
        "for i in range(1,n+1):\n",
        "  print(\" \")\n",
        "  d= m-n+1\n",
        "  for k in range(1,d+1):\n",
        "    print(\" \",end=' ')\n",
        "  for j in range(1,(2*n)):\n",
        "    print(\"*\",end=' ')\n",
        "  n=n-1\n",
        "  print(\"\\n\",end=' ')\n",
        "  \n",
        "\n"
      ]
    }
  ]
}