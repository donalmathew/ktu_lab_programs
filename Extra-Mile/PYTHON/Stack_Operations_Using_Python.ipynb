{
  "nbformat": 4,
  "nbformat_minor": 0,
  "metadata": {
    "colab": {
      "provenance": [],
      "authorship_tag": "ABX9TyNfplClq+46hWCDYsinLUZv",
      "include_colab_link": true
    },
    "kernelspec": {
      "name": "python3",
      "display_name": "Python 3"
    },
    "language_info": {
      "name": "python"
    }
  },
  "cells": [
    {
      "cell_type": "markdown",
      "metadata": {
        "id": "view-in-github",
        "colab_type": "text"
      },
      "source": [
        "<a href=\"https://colab.research.google.com/github/Gokulos/Extra-Mile/blob/main/PYTHON/Stack_Operations_Using_Python.ipynb\" target=\"_parent\"><img src=\"https://colab.research.google.com/assets/colab-badge.svg\" alt=\"Open In Colab\"/></a>"
      ]
    },
    {
      "cell_type": "code",
      "execution_count": 3,
      "metadata": {
        "colab": {
          "base_uri": "https://localhost:8080/"
        },
        "id": "dFBY_tGO1H8J",
        "outputId": "6ad340f1-4509-4749-eda8-98a8f75944dd"
      },
      "outputs": [
        {
          "output_type": "stream",
          "name": "stdout",
          "text": [
            "Element: 1is Added\n",
            "Element: 2is Added\n",
            "Element: 3is Added\n",
            "Element: 4is Added\n",
            "popped item: 4\n",
            "stack after popping an element: ['1', '2', '3']\n"
          ]
        }
      ],
      "source": [
        "#Creating a stack\n",
        "def stack():\n",
        "    stack = []\n",
        "    return stack\n",
        "\n",
        "\n",
        "#Checking if stack is empty\n",
        "def check_if_empty(stack):\n",
        "    return len(stack) == 0\n",
        "\n",
        "\n",
        "# Pushing elements to stack\n",
        "def push(stack, item):\n",
        "    stack.append(item)\n",
        "    print(\"Element: \" + item + \"is Added\")\n",
        "\n",
        "\n",
        "# Removing an element from the stack\n",
        "def pop(stack):\n",
        "    if (check_if_empty(stack)):\n",
        "        return \"stack is empty\"\n",
        "\n",
        "    return stack.pop()\n",
        "\n",
        "\n",
        "stack = stack()\n",
        "push(stack, str(1))\n",
        "push(stack, str(2))\n",
        "push(stack, str(3))\n",
        "push(stack, str(4))\n",
        "print(\"popped item: \" + pop(stack))\n",
        "print(\"stack after popping an element: \" + str(stack))"
      ]
    }
  ]
}