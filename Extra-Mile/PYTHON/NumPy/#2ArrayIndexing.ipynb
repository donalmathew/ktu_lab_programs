{
  "nbformat": 4,
  "nbformat_minor": 0,
  "metadata": {
    "colab": {
      "provenance": [],
      "authorship_tag": "ABX9TyPNhQEvjGQtHKs6DbWCS+K9",
      "include_colab_link": true
    },
    "kernelspec": {
      "name": "python3",
      "display_name": "Python 3"
    },
    "language_info": {
      "name": "python"
    }
  },
  "cells": [
    {
      "cell_type": "markdown",
      "metadata": {
        "id": "view-in-github",
        "colab_type": "text"
      },
      "source": [
        "<a href=\"https://colab.research.google.com/github/AkarshAnilkumar/Extra-Mile/blob/main/PYTHON/NumPy/%232ArrayIndexing.ipynb\" target=\"_parent\"><img src=\"https://colab.research.google.com/assets/colab-badge.svg\" alt=\"Open In Colab\"/></a>"
      ]
    },
    {
      "cell_type": "code",
      "execution_count": null,
      "metadata": {
        "id": "RoTT9AJewBsh"
      },
      "outputs": [],
      "source": [
        "# Tutorial illustrating Accessing the elements in an Array"
      ]
    },
    {
      "cell_type": "code",
      "source": [
        "import numpy as np\n",
        "arr = np.array([1,2,3])\n",
        "# A 1D array can be accessed through normal index and negative index\n",
        "print(arr[0])\n",
        "print(arr[-1])\n",
        "#Creates an 2D array\n",
        "arrd2 = np.array([1,2,3],ndmin = 2)\n",
        "# After opening square bracket first digit represent the outer array latter represent the inner array\n",
        "print(arrd2[0,2])\n",
        "print(arrd2[0,0]+arrd2[0,1])"
      ],
      "metadata": {
        "id": "u7Iryui6wdPt"
      },
      "execution_count": null,
      "outputs": []
    },
    {
      "cell_type": "code",
      "source": [
        "#Use negative indexing to access an array from the end.\n",
        "print(arrd2[0,-1])"
      ],
      "metadata": {
        "id": "VYoQOHUf4JuH"
      },
      "execution_count": null,
      "outputs": []
    }
  ]
}