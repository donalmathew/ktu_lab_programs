{
  "nbformat": 4,
  "nbformat_minor": 0,
  "metadata": {
    "colab": {
      "provenance": [],
      "authorship_tag": "ABX9TyNU5aKqCC7IrmZL72F6LYtC",
      "include_colab_link": true
    },
    "kernelspec": {
      "name": "python3",
      "display_name": "Python 3"
    },
    "language_info": {
      "name": "python"
    }
  },
  "cells": [
    {
      "cell_type": "markdown",
      "metadata": {
        "id": "view-in-github",
        "colab_type": "text"
      },
      "source": [
        "<a href=\"https://colab.research.google.com/github/AkarshAnilkumar/Extra-Mile/blob/main/PYTHON/NumPy/%231Creating_Arrays.ipynb\" target=\"_parent\"><img src=\"https://colab.research.google.com/assets/colab-badge.svg\" alt=\"Open In Colab\"/></a>"
      ]
    },
    {
      "cell_type": "code",
      "source": [
        "#Tutorial1 on NumPy :::::  Creating Arrays"
      ],
      "metadata": {
        "id": "Je1x61vGtMU4"
      },
      "execution_count": null,
      "outputs": []
    },
    {
      "cell_type": "code",
      "execution_count": null,
      "metadata": {
        "id": "SV-croQ8rDpo"
      },
      "outputs": [],
      "source": [
        "import numpy as np\n",
        "#as is used to create an alias \n",
        "arr = np.array([1,2,3])\n",
        "print(arr)\n",
        "print(type(arr))\n",
        "#This built-in Python function tells us the type of the object passed to it. Like in above code it shows that arr is numpy.ndarray type."
      ]
    },
    {
      "cell_type": "code",
      "source": [
        "# A 3D array  \n",
        "arr = np.array([[[1,2,3],[1,2,3]],[[1,2,3],[1,2,3]]])\n",
        "print(arr)\n",
        "#NumPy Arrays provides the \"ndim\" attribute that returns an integer that tells us how many dimensions the array have.\n",
        "print(arr.ndim)"
      ],
      "metadata": {
        "id": "voHrKVRFr5Jz"
      },
      "execution_count": null,
      "outputs": []
    },
    {
      "cell_type": "code",
      "source": [
        "# We can define the dimension of the array using ndmin parameter\n",
        "arr = np.array([1,2,3],ndmin = 10)\n",
        "print(arr)\n",
        "print(arr.ndim)\n",
        "#[[[[[[[[[[1 2 3]]]]]]]]]]"
      ],
      "metadata": {
        "id": "OS_SOHAetqHW"
      },
      "execution_count": null,
      "outputs": []
    }
  ]
}