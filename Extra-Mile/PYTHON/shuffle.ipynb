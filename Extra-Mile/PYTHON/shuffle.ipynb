{
  "nbformat": 4,
  "nbformat_minor": 0,
  "metadata": {
    "colab": {
      "provenance": [],
      "authorship_tag": "ABX9TyN4unnC9C738aBgsywuPqWn",
      "include_colab_link": true
    },
    "kernelspec": {
      "name": "python3",
      "display_name": "Python 3"
    },
    "language_info": {
      "name": "python"
    }
  },
  "cells": [
    {
      "cell_type": "markdown",
      "metadata": {
        "id": "view-in-github",
        "colab_type": "text"
      },
      "source": [
        "<a href=\"https://colab.research.google.com/github/HKRcodes/Extra-Mile/blob/main/PYTHON/shuffle.ipynb\" target=\"_parent\"><img src=\"https://colab.research.google.com/assets/colab-badge.svg\" alt=\"Open In Colab\"/></a>"
      ]
    },
    {
      "cell_type": "code",
      "execution_count": 1,
      "metadata": {
        "colab": {
          "base_uri": "https://localhost:8080/"
        },
        "id": "Ae7rD2bKfjs6",
        "outputId": "711b688c-9fa6-46a2-836c-ce9bd2d3ef3d"
      },
      "outputs": [
        {
          "output_type": "stream",
          "name": "stdout",
          "text": [
            "You got:\n",
            "1 of Spade\n",
            "12 of Diamond\n",
            "12 of Spade\n",
            "8 of Club\n",
            "4 of Heart\n"
          ]
        }
      ],
      "source": [
        "# Python program to shuffle a deck of card\n",
        "\n",
        "# importing modules\n",
        "import itertools, random\n",
        "\n",
        "# make a deck of cards\n",
        "deck = list(itertools.product(range(1,14),['Spade','Heart','Diamond','Club']))\n",
        "\n",
        "# shuffle the cards\n",
        "random.shuffle(deck)\n",
        "\n",
        "# draw five cards\n",
        "print(\"You got:\")\n",
        "for i in range(5):\n",
        "   print(deck[i][0], \"of\", deck[i][1])"
      ]
    }
  ]
}