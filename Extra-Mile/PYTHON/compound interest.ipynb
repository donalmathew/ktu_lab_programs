{
  "nbformat": 4,
  "nbformat_minor": 0,
  "metadata": {
    "colab": {
      "provenance": [],
      "authorship_tag": "ABX9TyNZwGpUGoxz9ag7y6cIT9GI",
      "include_colab_link": true
    },
    "kernelspec": {
      "name": "python3",
      "display_name": "Python 3"
    },
    "language_info": {
      "name": "python"
    }
  },
  "cells": [
    {
      "cell_type": "markdown",
      "metadata": {
        "id": "view-in-github",
        "colab_type": "text"
      },
      "source": [
        "<a href=\"https://colab.research.google.com/github/prxnxv-p/Extra-Mile/blob/main/PYTHON/compound%20interest.ipynb\" target=\"_parent\"><img src=\"https://colab.research.google.com/assets/colab-badge.svg\" alt=\"Open In Colab\"/></a>"
      ]
    },
    {
      "cell_type": "code",
      "execution_count": 1,
      "metadata": {
        "colab": {
          "base_uri": "https://localhost:8080/"
        },
        "id": "F-9Ih2Ad6Tlz",
        "outputId": "24ad7139-f7f8-4428-804d-c4ab180f903f"
      },
      "outputs": [
        {
          "output_type": "stream",
          "name": "stdout",
          "text": [
            "Eneter the principal amount:120\n",
            "Enter the rate of interest:5\n",
            "Enter the time in years:3\n",
            "compound interest is: 18.92\n"
          ]
        }
      ],
      "source": [
        "p=float(input(\"Eneter the principal amount:\"))\n",
        "r=float(input(\"Enter the rate of interest:\"))\n",
        "t=float(input(\"Enter the time in years:\"))\n",
        "x=(1+r/100)**t\n",
        "CI=p*x-p\n",
        "print(\"compound interest is:\",round(CI,2))"
      ]
    }
  ]
}