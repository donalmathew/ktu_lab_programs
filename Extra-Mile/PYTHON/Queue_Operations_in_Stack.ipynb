{
  "nbformat": 4,
  "nbformat_minor": 0,
  "metadata": {
    "colab": {
      "provenance": [],
      "authorship_tag": "ABX9TyPpddSZHUA/WDkg3VnnLZZu",
      "include_colab_link": true
    },
    "kernelspec": {
      "name": "python3",
      "display_name": "Python 3"
    },
    "language_info": {
      "name": "python"
    }
  },
  "cells": [
    {
      "cell_type": "markdown",
      "metadata": {
        "id": "view-in-github",
        "colab_type": "text"
      },
      "source": [
        "<a href=\"https://colab.research.google.com/github/Gokulos/Extra-Mile/blob/main/PYTHON/Queue_Operations_in_Stack.ipynb\" target=\"_parent\"><img src=\"https://colab.research.google.com/assets/colab-badge.svg\" alt=\"Open In Colab\"/></a>"
      ]
    },
    {
      "cell_type": "code",
      "execution_count": 8,
      "metadata": {
        "colab": {
          "base_uri": "https://localhost:8080/"
        },
        "id": "dFBY_tGO1H8J",
        "outputId": "c80a9000-661c-4577-d006-3bebec8d00bd"
      },
      "outputs": [
        {
          "output_type": "stream",
          "name": "stdout",
          "text": [
            "Inserting… 1\n",
            "Inserting… 2\n",
            "Inserting… 3\n",
            "Inserting… 4\n",
            "The front element is 1\n",
            "Removing… 1\n",
            "Removing… 2\n",
            "Removing… 3\n",
            "Removing… 4\n",
            "The queue is empty\n"
          ]
        }
      ],
      "source": [
        "# A Linked List Node\n",
        "class Node:\n",
        "    def __init__(self, data, left=None, right=None):\n",
        "        # set data in the allocated node and return it\n",
        "        self.data = data\n",
        "        self.next = None\n",
        " \n",
        " \n",
        "class Queue:\n",
        "    def __init__(self):\n",
        "        self.rear = None\n",
        "        self.front = None\n",
        "        self.count = 0\n",
        " \n",
        "    # Utility function to dequeue the front element\n",
        "    def dequeue(self):          # delete at the beginning\n",
        "        if self.front is None:\n",
        "            print('Queue Underflow')\n",
        "            exit(-1)\n",
        " \n",
        "        temp = self.front\n",
        "        print('Removing…', temp.data)\n",
        " \n",
        "        # advance front to the next node\n",
        "        self.front = self.front.next\n",
        " \n",
        "        # if the list becomes empty\n",
        "        if self.front is None:\n",
        "            self.rear = None\n",
        " \n",
        "        # decrease the node's count by 1\n",
        "        self.count -= 1\n",
        " \n",
        "        # return the removed item\n",
        "        return temp.data\n",
        " \n",
        "    # Utility function to add an item to the queue\n",
        "    def enqueue(self, item):    # insertion at the end\n",
        "        # allocate the node in a heap\n",
        "        node = Node(item)\n",
        "        print('Inserting…', item)\n",
        " \n",
        "        # special case: queue was empty\n",
        "        if self.front is None:\n",
        "            # initialize both front and rear\n",
        "            self.front = node\n",
        "            self.rear = node\n",
        "        else:\n",
        "            # update rear\n",
        "            self.rear.next = node\n",
        "            self.rear = node\n",
        " \n",
        "        # increase the node's count by 1\n",
        "        self.count += 1\n",
        " \n",
        "    # Utility function to return the top element in a queue\n",
        "    def peek(self):\n",
        "        # check for an empty queue\n",
        "        if self.front:\n",
        "            return self.front.data\n",
        "        else:\n",
        "            exit(-1)\n",
        " \n",
        "    # Utility function to check if the queue is empty or not\n",
        "    def isEmpty(self):\n",
        "        return self.rear is None and self.front is None\n",
        " \n",
        "    # Function to return the size of the queue\n",
        "    def size(self):\n",
        "        return self.count\n",
        " \n",
        " \n",
        "if __name__ == '__main__':\n",
        " \n",
        "    q = Queue()\n",
        "    q.enqueue(1)\n",
        "    q.enqueue(2)\n",
        "    q.enqueue(3)\n",
        "    q.enqueue(4)\n",
        " \n",
        "    print('The front element is', q.peek())\n",
        " \n",
        "    q.dequeue()\n",
        "    q.dequeue()\n",
        "    q.dequeue()\n",
        "    q.dequeue()\n",
        " \n",
        "    if q.isEmpty():\n",
        "        print('The queue is empty')\n",
        "    else:\n",
        "        print('The queue is not empty')"
      ]
    }
  ]
}