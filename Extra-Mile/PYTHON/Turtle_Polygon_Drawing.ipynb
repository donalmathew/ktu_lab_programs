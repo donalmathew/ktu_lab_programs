{
  "nbformat": 4,
  "nbformat_minor": 0,
  "metadata": {
    "colab": {
      "provenance": [],
      "authorship_tag": "ABX9TyPeJGysILmpm44qaIl6n9Xb",
      "include_colab_link": true
    },
    "kernelspec": {
      "name": "python3",
      "display_name": "Python 3"
    },
    "language_info": {
      "name": "python"
    }
  },
  "cells": [
    {
      "cell_type": "markdown",
      "metadata": {
        "id": "view-in-github",
        "colab_type": "text"
      },
      "source": [
        "<a href=\"https://colab.research.google.com/github/HKRcodes/Extra-Mile/blob/main/PYTHON/Turtle_Polygon_Drawing.ipynb\" target=\"_parent\"><img src=\"https://colab.research.google.com/assets/colab-badge.svg\" alt=\"Open In Colab\"/></a>"
      ]
    },
    {
      "cell_type": "code",
      "source": [
        "!pip3 install ColabTurtle"
      ],
      "metadata": {
        "colab": {
          "base_uri": "https://localhost:8080/"
        },
        "id": "QlBvVzKFFTzT",
        "outputId": "8c2a16f8-60bf-423e-ea71-baf4044fc426"
      },
      "execution_count": null,
      "outputs": [
        {
          "output_type": "stream",
          "name": "stdout",
          "text": [
            "Looking in indexes: https://pypi.org/simple, https://us-python.pkg.dev/colab-wheels/public/simple/\n",
            "Collecting ColabTurtle\n",
            "  Downloading ColabTurtle-2.1.0.tar.gz (6.8 kB)\n",
            "Building wheels for collected packages: ColabTurtle\n",
            "  Building wheel for ColabTurtle (setup.py) ... \u001b[?25l\u001b[?25hdone\n",
            "  Created wheel for ColabTurtle: filename=ColabTurtle-2.1.0-py3-none-any.whl size=7657 sha256=88e8e7e12c5bf200f4f67c0eb65bb2c6941fe47e086ea9e5929183f9d46ee7a1\n",
            "  Stored in directory: /root/.cache/pip/wheels/0d/ab/65/cc4478508751448dfb4ecb20a6533082855c227dfce8c13902\n",
            "Successfully built ColabTurtle\n",
            "Installing collected packages: ColabTurtle\n",
            "Successfully installed ColabTurtle-2.1.0\n"
          ]
        }
      ]
    },
    {
      "cell_type": "code",
      "execution_count": null,
      "metadata": {
        "colab": {
          "base_uri": "https://localhost:8080/",
          "height": 539
        },
        "id": "fdsKExsF1D0r",
        "outputId": "8758bfb0-7066-4e65-851a-26017c07d0de"
      },
      "outputs": [
        {
          "output_type": "display_data",
          "data": {
            "text/plain": [
              "<IPython.core.display.HTML object>"
            ],
            "text/html": [
              "\n",
              "      <svg width=\"800\" height=\"500\">\n",
              "        <rect width=\"100%\" height=\"100%\" fill=\"black\"/>\n",
              "        <line x1=\"300\" y1=\"20\" x2=\"400.0\" y2=\"20.0\" stroke-linecap=\"round\" style=\"stroke:rgb(2,138,74);stroke-width:4\"/><line x1=\"400.0\" y1=\"20.0\" x2=\"350.0\" y2=\"106.603\" stroke-linecap=\"round\" style=\"stroke:rgb(2,138,74);stroke-width:4\"/><line x1=\"350.0\" y1=\"106.603\" x2=\"300.0\" y2=\"20.0\" stroke-linecap=\"round\" style=\"stroke:rgb(2,138,74);stroke-width:4\"/><line x1=\"300.0\" y1=\"20.0\" x2=\"400.0\" y2=\"20.0\" stroke-linecap=\"round\" style=\"stroke:rgb(80,19,248);stroke-width:4\"/><line x1=\"400.0\" y1=\"20.0\" x2=\"400.0\" y2=\"120.0\" stroke-linecap=\"round\" style=\"stroke:rgb(80,19,248);stroke-width:4\"/><line x1=\"400.0\" y1=\"120.0\" x2=\"300.0\" y2=\"120.0\" stroke-linecap=\"round\" style=\"stroke:rgb(80,19,248);stroke-width:4\"/><line x1=\"300.0\" y1=\"120.0\" x2=\"300.0\" y2=\"20.0\" stroke-linecap=\"round\" style=\"stroke:rgb(80,19,248);stroke-width:4\"/><line x1=\"300.0\" y1=\"20.0\" x2=\"400.0\" y2=\"20.0\" stroke-linecap=\"round\" style=\"stroke:rgb(114,210,208);stroke-width:4\"/><line x1=\"400.0\" y1=\"20.0\" x2=\"430.902\" y2=\"115.106\" stroke-linecap=\"round\" style=\"stroke:rgb(114,210,208);stroke-width:4\"/><line x1=\"430.902\" y1=\"115.106\" x2=\"350.0\" y2=\"173.885\" stroke-linecap=\"round\" style=\"stroke:rgb(114,210,208);stroke-width:4\"/><line x1=\"350.0\" y1=\"173.885\" x2=\"269.098\" y2=\"115.106\" stroke-linecap=\"round\" style=\"stroke:rgb(114,210,208);stroke-width:4\"/><line x1=\"269.098\" y1=\"115.106\" x2=\"300.0\" y2=\"20.0\" stroke-linecap=\"round\" style=\"stroke:rgb(114,210,208);stroke-width:4\"/><line x1=\"300.0\" y1=\"20.0\" x2=\"400.0\" y2=\"20.0\" stroke-linecap=\"round\" style=\"stroke:rgb(32,173,195);stroke-width:4\"/><line x1=\"400.0\" y1=\"20.0\" x2=\"450.0\" y2=\"106.603\" stroke-linecap=\"round\" style=\"stroke:rgb(32,173,195);stroke-width:4\"/><line x1=\"450.0\" y1=\"106.603\" x2=\"400.0\" y2=\"193.206\" stroke-linecap=\"round\" style=\"stroke:rgb(32,173,195);stroke-width:4\"/><line x1=\"400.0\" y1=\"193.206\" x2=\"300.0\" y2=\"193.206\" stroke-linecap=\"round\" style=\"stroke:rgb(32,173,195);stroke-width:4\"/><line x1=\"300.0\" y1=\"193.206\" x2=\"250.0\" y2=\"106.603\" stroke-linecap=\"round\" style=\"stroke:rgb(32,173,195);stroke-width:4\"/><line x1=\"250.0\" y1=\"106.603\" x2=\"300.0\" y2=\"20.0\" stroke-linecap=\"round\" style=\"stroke:rgb(32,173,195);stroke-width:4\"/><line x1=\"300.0\" y1=\"20.0\" x2=\"400.0\" y2=\"20.0\" stroke-linecap=\"round\" style=\"stroke:rgb(160,29,59);stroke-width:4\"/><line x1=\"400.0\" y1=\"20.0\" x2=\"462.349\" y2=\"98.183\" stroke-linecap=\"round\" style=\"stroke:rgb(160,29,59);stroke-width:4\"/><line x1=\"462.349\" y1=\"98.183\" x2=\"440.097\" y2=\"195.676\" stroke-linecap=\"round\" style=\"stroke:rgb(160,29,59);stroke-width:4\"/><line x1=\"440.097\" y1=\"195.676\" x2=\"350.0\" y2=\"239.064\" stroke-linecap=\"round\" style=\"stroke:rgb(160,29,59);stroke-width:4\"/><line x1=\"350.0\" y1=\"239.064\" x2=\"259.903\" y2=\"195.676\" stroke-linecap=\"round\" style=\"stroke:rgb(160,29,59);stroke-width:4\"/><line x1=\"259.903\" y1=\"195.676\" x2=\"237.651\" y2=\"98.183\" stroke-linecap=\"round\" style=\"stroke:rgb(160,29,59);stroke-width:4\"/><line x1=\"237.651\" y1=\"98.183\" x2=\"300.0\" y2=\"20.0\" stroke-linecap=\"round\" style=\"stroke:rgb(160,29,59);stroke-width:4\"/><line x1=\"300.0\" y1=\"20.0\" x2=\"400.0\" y2=\"20.0\" stroke-linecap=\"round\" style=\"stroke:rgb(38,68,17);stroke-width:4\"/><line x1=\"400.0\" y1=\"20.0\" x2=\"470.711\" y2=\"90.711\" stroke-linecap=\"round\" style=\"stroke:rgb(38,68,17);stroke-width:4\"/><line x1=\"470.711\" y1=\"90.711\" x2=\"470.711\" y2=\"190.711\" stroke-linecap=\"round\" style=\"stroke:rgb(38,68,17);stroke-width:4\"/><line x1=\"470.711\" y1=\"190.711\" x2=\"400.0\" y2=\"261.422\" stroke-linecap=\"round\" style=\"stroke:rgb(38,68,17);stroke-width:4\"/><line x1=\"400.0\" y1=\"261.422\" x2=\"300.0\" y2=\"261.422\" stroke-linecap=\"round\" style=\"stroke:rgb(38,68,17);stroke-width:4\"/><line x1=\"300.0\" y1=\"261.422\" x2=\"229.289\" y2=\"190.711\" stroke-linecap=\"round\" style=\"stroke:rgb(38,68,17);stroke-width:4\"/><line x1=\"229.289\" y1=\"190.711\" x2=\"229.289\" y2=\"90.711\" stroke-linecap=\"round\" style=\"stroke:rgb(38,68,17);stroke-width:4\"/><line x1=\"229.289\" y1=\"90.711\" x2=\"300.0\" y2=\"20.0\" stroke-linecap=\"round\" style=\"stroke:rgb(38,68,17);stroke-width:4\"/><line x1=\"300.0\" y1=\"20.0\" x2=\"400.0\" y2=\"20.0\" stroke-linecap=\"round\" style=\"stroke:rgb(103,37,175);stroke-width:4\"/><line x1=\"400.0\" y1=\"20.0\" x2=\"476.604\" y2=\"84.279\" stroke-linecap=\"round\" style=\"stroke:rgb(103,37,175);stroke-width:4\"/><line x1=\"476.604\" y1=\"84.279\" x2=\"493.969\" y2=\"182.76\" stroke-linecap=\"round\" style=\"stroke:rgb(103,37,175);stroke-width:4\"/><line x1=\"493.969\" y1=\"182.76\" x2=\"443.969\" y2=\"269.363\" stroke-linecap=\"round\" style=\"stroke:rgb(103,37,175);stroke-width:4\"/><line x1=\"443.969\" y1=\"269.363\" x2=\"350.0\" y2=\"303.565\" stroke-linecap=\"round\" style=\"stroke:rgb(103,37,175);stroke-width:4\"/><line x1=\"350.0\" y1=\"303.565\" x2=\"256.031\" y2=\"269.363\" stroke-linecap=\"round\" style=\"stroke:rgb(103,37,175);stroke-width:4\"/><line x1=\"256.031\" y1=\"269.363\" x2=\"206.031\" y2=\"182.76\" stroke-linecap=\"round\" style=\"stroke:rgb(103,37,175);stroke-width:4\"/><line x1=\"206.031\" y1=\"182.76\" x2=\"223.396\" y2=\"84.279\" stroke-linecap=\"round\" style=\"stroke:rgb(103,37,175);stroke-width:4\"/><line x1=\"223.396\" y1=\"84.279\" x2=\"300.0\" y2=\"20.0\" stroke-linecap=\"round\" style=\"stroke:rgb(103,37,175);stroke-width:4\"/><line x1=\"300.0\" y1=\"20.0\" x2=\"400.0\" y2=\"20.0\" stroke-linecap=\"round\" style=\"stroke:rgb(88,32,229);stroke-width:4\"/><line x1=\"400.0\" y1=\"20.0\" x2=\"480.902\" y2=\"78.779\" stroke-linecap=\"round\" style=\"stroke:rgb(88,32,229);stroke-width:4\"/><line x1=\"480.902\" y1=\"78.779\" x2=\"511.804\" y2=\"173.885\" stroke-linecap=\"round\" style=\"stroke:rgb(88,32,229);stroke-width:4\"/><line x1=\"511.804\" y1=\"173.885\" x2=\"480.902\" y2=\"268.991\" stroke-linecap=\"round\" style=\"stroke:rgb(88,32,229);stroke-width:4\"/><line x1=\"480.902\" y1=\"268.991\" x2=\"400.0\" y2=\"327.77\" stroke-linecap=\"round\" style=\"stroke:rgb(88,32,229);stroke-width:4\"/><line x1=\"400.0\" y1=\"327.77\" x2=\"300.0\" y2=\"327.77\" stroke-linecap=\"round\" style=\"stroke:rgb(88,32,229);stroke-width:4\"/><line x1=\"300.0\" y1=\"327.77\" x2=\"219.098\" y2=\"268.991\" stroke-linecap=\"round\" style=\"stroke:rgb(88,32,229);stroke-width:4\"/><line x1=\"219.098\" y1=\"268.991\" x2=\"188.196\" y2=\"173.885\" stroke-linecap=\"round\" style=\"stroke:rgb(88,32,229);stroke-width:4\"/><line x1=\"188.196\" y1=\"173.885\" x2=\"219.098\" y2=\"78.779\" stroke-linecap=\"round\" style=\"stroke:rgb(88,32,229);stroke-width:4\"/><line x1=\"219.098\" y1=\"78.779\" x2=\"300.0\" y2=\"20.0\" stroke-linecap=\"round\" style=\"stroke:rgb(88,32,229);stroke-width:4\"/><line x1=\"300.0\" y1=\"20.0\" x2=\"400.0\" y2=\"20.0\" stroke-linecap=\"round\" style=\"stroke:rgb(156,43,148);stroke-width:4\"/><line x1=\"400.0\" y1=\"20.0\" x2=\"484.125\" y2=\"74.064\" stroke-linecap=\"round\" style=\"stroke:rgb(156,43,148);stroke-width:4\"/><line x1=\"484.125\" y1=\"74.064\" x2=\"525.667\" y2=\"165.027\" stroke-linecap=\"round\" style=\"stroke:rgb(156,43,148);stroke-width:4\"/><line x1=\"525.667\" y1=\"165.027\" x2=\"511.436\" y2=\"264.009\" stroke-linecap=\"round\" style=\"stroke:rgb(156,43,148);stroke-width:4\"/><line x1=\"511.436\" y1=\"264.009\" x2=\"445.95\" y2=\"339.584\" stroke-linecap=\"round\" style=\"stroke:rgb(156,43,148);stroke-width:4\"/><line x1=\"445.95\" y1=\"339.584\" x2=\"350.001\" y2=\"367.757\" stroke-linecap=\"round\" style=\"stroke:rgb(156,43,148);stroke-width:4\"/><line x1=\"350.001\" y1=\"367.757\" x2=\"254.052\" y2=\"339.584\" stroke-linecap=\"round\" style=\"stroke:rgb(156,43,148);stroke-width:4\"/><line x1=\"254.052\" y1=\"339.584\" x2=\"188.566\" y2=\"264.009\" stroke-linecap=\"round\" style=\"stroke:rgb(156,43,148);stroke-width:4\"/><line x1=\"188.566\" y1=\"264.009\" x2=\"174.335\" y2=\"165.027\" stroke-linecap=\"round\" style=\"stroke:rgb(156,43,148);stroke-width:4\"/><line x1=\"174.335\" y1=\"165.027\" x2=\"215.877\" y2=\"74.064\" stroke-linecap=\"round\" style=\"stroke:rgb(156,43,148);stroke-width:4\"/><line x1=\"215.877\" y1=\"74.064\" x2=\"300.002\" y2=\"20.0\" stroke-linecap=\"round\" style=\"stroke:rgb(156,43,148);stroke-width:4\"/><line x1=\"300.002\" y1=\"20.0\" x2=\"400.002\" y2=\"20.0\" stroke-linecap=\"round\" style=\"stroke:rgb(160,198,40);stroke-width:4\"/><line x1=\"400.002\" y1=\"20.0\" x2=\"486.605\" y2=\"70.0\" stroke-linecap=\"round\" style=\"stroke:rgb(160,198,40);stroke-width:4\"/><line x1=\"486.605\" y1=\"70.0\" x2=\"536.605\" y2=\"156.603\" stroke-linecap=\"round\" style=\"stroke:rgb(160,198,40);stroke-width:4\"/><line x1=\"536.605\" y1=\"156.603\" x2=\"536.605\" y2=\"256.603\" stroke-linecap=\"round\" style=\"stroke:rgb(160,198,40);stroke-width:4\"/><line x1=\"536.605\" y1=\"256.603\" x2=\"486.605\" y2=\"343.206\" stroke-linecap=\"round\" style=\"stroke:rgb(160,198,40);stroke-width:4\"/><line x1=\"486.605\" y1=\"343.206\" x2=\"400.002\" y2=\"393.206\" stroke-linecap=\"round\" style=\"stroke:rgb(160,198,40);stroke-width:4\"/><line x1=\"400.002\" y1=\"393.206\" x2=\"300.002\" y2=\"393.206\" stroke-linecap=\"round\" style=\"stroke:rgb(160,198,40);stroke-width:4\"/><line x1=\"300.002\" y1=\"393.206\" x2=\"213.399\" y2=\"343.206\" stroke-linecap=\"round\" style=\"stroke:rgb(160,198,40);stroke-width:4\"/><line x1=\"213.399\" y1=\"343.206\" x2=\"163.399\" y2=\"256.603\" stroke-linecap=\"round\" style=\"stroke:rgb(160,198,40);stroke-width:4\"/><line x1=\"163.399\" y1=\"256.603\" x2=\"163.399\" y2=\"156.603\" stroke-linecap=\"round\" style=\"stroke:rgb(160,198,40);stroke-width:4\"/><line x1=\"163.399\" y1=\"156.603\" x2=\"213.399\" y2=\"70.0\" stroke-linecap=\"round\" style=\"stroke:rgb(160,198,40);stroke-width:4\"/><line x1=\"213.399\" y1=\"70.0\" x2=\"300.002\" y2=\"20.0\" stroke-linecap=\"round\" style=\"stroke:rgb(160,198,40);stroke-width:4\"/><line x1=\"300.002\" y1=\"20.0\" x2=\"400.002\" y2=\"20.0\" stroke-linecap=\"round\" style=\"stroke:rgb(20,94,167);stroke-width:4\"/><line x1=\"400.002\" y1=\"20.0\" x2=\"488.548\" y2=\"66.472\" stroke-linecap=\"round\" style=\"stroke:rgb(20,94,167);stroke-width:4\"/><line x1=\"488.548\" y1=\"66.472\" x2=\"545.354\" y2=\"148.77\" stroke-linecap=\"round\" style=\"stroke:rgb(20,94,167);stroke-width:4\"/><line x1=\"545.354\" y1=\"148.77\" x2=\"557.408\" y2=\"248.041\" stroke-linecap=\"round\" style=\"stroke:rgb(20,94,167);stroke-width:4\"/><line x1=\"557.408\" y1=\"248.041\" x2=\"521.948\" y2=\"341.543\" stroke-linecap=\"round\" style=\"stroke:rgb(20,94,167);stroke-width:4\"/><line x1=\"521.948\" y1=\"341.543\" x2=\"447.097\" y2=\"407.855\" stroke-linecap=\"round\" style=\"stroke:rgb(20,94,167);stroke-width:4\"/><line x1=\"447.097\" y1=\"407.855\" x2=\"350.003\" y2=\"431.787\" stroke-linecap=\"round\" style=\"stroke:rgb(20,94,167);stroke-width:4\"/><line x1=\"350.003\" y1=\"431.787\" x2=\"252.909\" y2=\"407.855\" stroke-linecap=\"round\" style=\"stroke:rgb(20,94,167);stroke-width:4\"/><line x1=\"252.909\" y1=\"407.855\" x2=\"178.058\" y2=\"341.543\" stroke-linecap=\"round\" style=\"stroke:rgb(20,94,167);stroke-width:4\"/><line x1=\"178.058\" y1=\"341.543\" x2=\"142.598\" y2=\"248.041\" stroke-linecap=\"round\" style=\"stroke:rgb(20,94,167);stroke-width:4\"/><line x1=\"142.598\" y1=\"248.041\" x2=\"154.652\" y2=\"148.77\" stroke-linecap=\"round\" style=\"stroke:rgb(20,94,167);stroke-width:4\"/><line x1=\"154.652\" y1=\"148.77\" x2=\"211.458\" y2=\"66.472\" stroke-linecap=\"round\" style=\"stroke:rgb(20,94,167);stroke-width:4\"/><line x1=\"211.458\" y1=\"66.472\" x2=\"300.004\" y2=\"20.0\" stroke-linecap=\"round\" style=\"stroke:rgb(20,94,167);stroke-width:4\"/><line x1=\"300.004\" y1=\"20.0\" x2=\"400.004\" y2=\"20.0\" stroke-linecap=\"round\" style=\"stroke:rgb(227,48,66);stroke-width:4\"/><line x1=\"400.004\" y1=\"20.0\" x2=\"490.101\" y2=\"63.388\" stroke-linecap=\"round\" style=\"stroke:rgb(227,48,66);stroke-width:4\"/><line x1=\"490.101\" y1=\"63.388\" x2=\"552.45\" y2=\"141.571\" stroke-linecap=\"round\" style=\"stroke:rgb(227,48,66);stroke-width:4\"/><line x1=\"552.45\" y1=\"141.571\" x2=\"574.702\" y2=\"239.064\" stroke-linecap=\"round\" style=\"stroke:rgb(227,48,66);stroke-width:4\"/><line x1=\"574.702\" y1=\"239.064\" x2=\"552.45\" y2=\"336.557\" stroke-linecap=\"round\" style=\"stroke:rgb(227,48,66);stroke-width:4\"/><line x1=\"552.45\" y1=\"336.557\" x2=\"490.101\" y2=\"414.74\" stroke-linecap=\"round\" style=\"stroke:rgb(227,48,66);stroke-width:4\"/><line x1=\"490.101\" y1=\"414.74\" x2=\"400.004\" y2=\"458.128\" stroke-linecap=\"round\" style=\"stroke:rgb(227,48,66);stroke-width:4\"/><line x1=\"400.004\" y1=\"458.128\" x2=\"300.004\" y2=\"458.128\" stroke-linecap=\"round\" style=\"stroke:rgb(227,48,66);stroke-width:4\"/><line x1=\"300.004\" y1=\"458.128\" x2=\"209.907\" y2=\"414.74\" stroke-linecap=\"round\" style=\"stroke:rgb(227,48,66);stroke-width:4\"/><line x1=\"209.907\" y1=\"414.74\" x2=\"147.558\" y2=\"336.557\" stroke-linecap=\"round\" style=\"stroke:rgb(227,48,66);stroke-width:4\"/><line x1=\"147.558\" y1=\"336.557\" x2=\"125.306\" y2=\"239.064\" stroke-linecap=\"round\" style=\"stroke:rgb(227,48,66);stroke-width:4\"/><line x1=\"125.306\" y1=\"239.064\" x2=\"147.558\" y2=\"141.571\" stroke-linecap=\"round\" style=\"stroke:rgb(227,48,66);stroke-width:4\"/><line x1=\"147.558\" y1=\"141.571\" x2=\"209.907\" y2=\"63.388\" stroke-linecap=\"round\" style=\"stroke:rgb(227,48,66);stroke-width:4\"/><line x1=\"209.907\" y1=\"63.388\" x2=\"300.004\" y2=\"20.0\" stroke-linecap=\"round\" style=\"stroke:rgb(227,48,66);stroke-width:4\"/><line x1=\"300.004\" y1=\"20.0\" x2=\"400.004\" y2=\"20.0\" stroke-linecap=\"round\" style=\"stroke:rgb(59,208,202);stroke-width:4\"/><line x1=\"400.004\" y1=\"20.0\" x2=\"491.359\" y2=\"60.674\" stroke-linecap=\"round\" style=\"stroke:rgb(59,208,202);stroke-width:4\"/><line x1=\"491.359\" y1=\"60.674\" x2=\"558.272\" y2=\"134.988\" stroke-linecap=\"round\" style=\"stroke:rgb(59,208,202);stroke-width:4\"/><line x1=\"558.272\" y1=\"134.988\" x2=\"589.174\" y2=\"230.094\" stroke-linecap=\"round\" style=\"stroke:rgb(59,208,202);stroke-width:4\"/><line x1=\"589.174\" y1=\"230.094\" x2=\"578.721\" y2=\"329.546\" stroke-linecap=\"round\" style=\"stroke:rgb(59,208,202);stroke-width:4\"/><line x1=\"578.721\" y1=\"329.546\" x2=\"528.721\" y2=\"416.149\" stroke-linecap=\"round\" style=\"stroke:rgb(59,208,202);stroke-width:4\"/><line x1=\"528.721\" y1=\"416.149\" x2=\"447.819\" y2=\"474.928\" stroke-linecap=\"round\" style=\"stroke:rgb(59,208,202);stroke-width:4\"/><line x1=\"447.819\" y1=\"474.928\" x2=\"350.004\" y2=\"495.719\" stroke-linecap=\"round\" style=\"stroke:rgb(59,208,202);stroke-width:4\"/><line x1=\"350.004\" y1=\"495.719\" x2=\"252.189\" y2=\"474.928\" stroke-linecap=\"round\" style=\"stroke:rgb(59,208,202);stroke-width:4\"/><line x1=\"252.189\" y1=\"474.928\" x2=\"171.287\" y2=\"416.149\" stroke-linecap=\"round\" style=\"stroke:rgb(59,208,202);stroke-width:4\"/><line x1=\"171.287\" y1=\"416.149\" x2=\"121.287\" y2=\"329.546\" stroke-linecap=\"round\" style=\"stroke:rgb(59,208,202);stroke-width:4\"/><line x1=\"121.287\" y1=\"329.546\" x2=\"110.834\" y2=\"230.094\" stroke-linecap=\"round\" style=\"stroke:rgb(59,208,202);stroke-width:4\"/><line x1=\"110.834\" y1=\"230.094\" x2=\"141.736\" y2=\"134.988\" stroke-linecap=\"round\" style=\"stroke:rgb(59,208,202);stroke-width:4\"/><line x1=\"141.736\" y1=\"134.988\" x2=\"208.649\" y2=\"60.674\" stroke-linecap=\"round\" style=\"stroke:rgb(59,208,202);stroke-width:4\"/><line x1=\"208.649\" y1=\"60.674\" x2=\"300.004\" y2=\"20.0\" stroke-linecap=\"round\" style=\"stroke:rgb(59,208,202);stroke-width:4\"/>\n",
              "        <g visibility=visible transform=\"rotate(90.00000000000006,300.004,20.0) translate(282.004, 2.0)\">\n",
              "<path style=\" stroke:none;fill-rule:evenodd;fill:rgb(59,208,202);fill-opacity:1;\" d=\"M 18.214844 0.632812 C 16.109375 1.800781 15.011719 4.074219 15.074219 7.132812 L 15.085938 7.652344 L 14.785156 7.496094 C 13.476562 6.824219 11.957031 6.671875 10.40625 7.066406 C 8.46875 7.550781 6.515625 9.15625 4.394531 11.992188 C 3.0625 13.777344 2.679688 14.636719 3.042969 15.027344 L 3.15625 15.152344 L 3.519531 15.152344 C 4.238281 15.152344 4.828125 14.886719 8.1875 13.039062 C 9.386719 12.378906 10.371094 11.839844 10.378906 11.839844 C 10.386719 11.839844 10.355469 11.929688 10.304688 12.035156 C 9.832031 13.09375 9.257812 14.820312 8.96875 16.078125 C 7.914062 20.652344 8.617188 24.53125 11.070312 27.660156 C 11.351562 28.015625 11.363281 27.914062 10.972656 28.382812 C 8.925781 30.84375 7.945312 33.28125 8.238281 35.1875 C 8.289062 35.527344 8.28125 35.523438 8.917969 35.523438 C 10.941406 35.523438 13.074219 34.207031 15.136719 31.6875 C 15.359375 31.417969 15.328125 31.425781 15.5625 31.574219 C 16.292969 32.042969 18.023438 32.964844 18.175781 32.964844 C 18.335938 32.964844 19.941406 32.210938 20.828125 31.71875 C 20.996094 31.625 21.136719 31.554688 21.136719 31.558594 C 21.203125 31.664062 21.898438 32.414062 22.222656 32.730469 C 23.835938 34.300781 25.5625 35.132812 27.582031 35.300781 C 27.90625 35.328125 27.9375 35.308594 28.007812 34.984375 C 28.382812 33.242188 27.625 30.925781 25.863281 28.425781 L 25.542969 27.96875 L 25.699219 27.785156 C 28.945312 23.960938 29.132812 18.699219 26.257812 11.96875 L 26.207031 11.84375 L 27.945312 12.703125 C 31.53125 14.476562 32.316406 14.800781 33.03125 14.800781 C 33.976562 14.800781 33.78125 13.9375 32.472656 12.292969 C 28.519531 7.355469 25.394531 5.925781 21.921875 7.472656 L 21.558594 7.636719 L 21.578125 7.542969 C 21.699219 6.992188 21.761719 5.742188 21.699219 5.164062 C 21.496094 3.296875 20.664062 1.964844 19.003906 0.855469 C 18.480469 0.503906 18.457031 0.5 18.214844 0.632812\"/>\n",
              "</g>\n",
              "      </svg>\n",
              "    "
            ]
          },
          "metadata": {}
        },
        {
          "name": "stdout",
          "output_type": "stream",
          "text": [
            "Enter a number of sides : 15\n"
          ]
        }
      ],
      "source": [
        "from ColabTurtle.Turtle import *\n",
        "import ColabTurtle.Turtle as turtle\n",
        "from random import randint\n",
        "\n",
        "turtle.initializeTurtle() \n",
        "penup()\n",
        "goto(300,20)\n",
        "pendown()\n",
        "turtle.right(90)\n",
        "turtle.speed(10)\n",
        "\n",
        "def drawshape(num_sides):\n",
        "  turtle.color(randint(0,255),randint(0,255),randint(0,255))\n",
        "  for i in range(num_sides):\n",
        "    angle = 360/num_sides\n",
        "    turtle.forward(100)\n",
        "    turtle.right(angle)\n",
        "\n",
        "n = int(input(\"Enter a number of sides : \"))\n",
        "for num_sides in range(3,n+1,1):\n",
        "  #print(num_sides)\n",
        "  drawshape(num_sides)"
      ]
    }
  ]
}